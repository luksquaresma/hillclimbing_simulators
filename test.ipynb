{
 "cells": [
  {
   "cell_type": "code",
   "execution_count": 45,
   "metadata": {},
   "outputs": [],
   "source": [
    "import br_army_knife as bak\n",
    "import matplotlib.pyplot as plt\n",
    "import plotly.graph_objects as go\n",
    "\n",
    "def f(p):\n",
    "    x, y = p\n",
    "    x0, y0 = 2, 0.8\n",
    "    return (0.3325 +\n",
    "        (x-x0)**2 + (x-x0) +\n",
    "        (y-y0)**2 + (y-y0) +\n",
    "        ((x-x0)*(y-y0))\n",
    "    )\n",
    "\n",
    "def get_neighbours(p, lr):\n",
    "    (x, y) = p\n",
    "    return [\n",
    "        (x + s*a*lr, y + s*b*lr)\n",
    "        for s in [-1, 1]\n",
    "        for a, b in zip(\n",
    "            [1, 0], [0, 1]\n",
    "        )\n",
    "    ]\n",
    "\n",
    "def create_mesh(ps, fs):\n",
    "    j = sorted(list(set([p[0] for p in ps])))\n",
    "    k = sorted(list(set([p[1] for p in ps])))\n",
    "    mesh = [\n",
    "            [\n",
    "                fs[ps.index((x, y))] if (x, y) in ps else None\n",
    "        for x in j]\n",
    "    for y in k]\n",
    "\n",
    "    return j, k, mesh\n",
    "\n",
    "def get_min_error(ps, fs):\n",
    "    return ps[fs.index(min(fs))]\n",
    "\n",
    "def plot_contour(ps, cs, fs):\n",
    "    x, y, z = create_mesh(ps, fs)\n",
    "    fig = go.Figure()\n",
    "    fig.add_trace(go.Contour(x=x, y=y, z=z, colorscale=\"Speed\", connectgaps=True))\n",
    "    fig.add_trace(go.Scatter(\n",
    "        x=[p[0] for p in ps],\n",
    "        y=[p[1] for p in ps],\n",
    "        mode=\"markers\",\n",
    "        marker=dict(color='black', size=12),\n",
    "        showlegend=False\n",
    "    ))\n",
    "    if len(cs) > 1:  \n",
    "        cs = cs[:-1] if cs[-1] == cs[-2] else cs\n",
    "        fig.add_trace(go.Scatter(\n",
    "            x=[p[0] for p in cs],\n",
    "            y=[p[1] for p in cs],\n",
    "            marker=dict(color='red', size=20, symbol= \"arrow-bar-up\", angleref=\"previous\"),\n",
    "            showlegend=False\n",
    "        ))\n",
    "    fig.update_layout( #autosize=False, \n",
    "                      width=800, height=800)\n",
    "    fig.show()\n",
    "\n",
    "lrs = [0.4, 0.2, 0.1, 0.05]"
   ]
  },
  {
   "cell_type": "code",
   "execution_count": 44,
   "metadata": {},
   "outputs": [
    {
     "data": {
      "text/plain": [
       "1.3877787807814457e-17"
      ]
     },
     "execution_count": 44,
     "metadata": {},
     "output_type": "execute_result"
    }
   ],
   "source": [
    "min(fs)"
   ]
  },
  {
   "cell_type": "code",
   "execution_count": 46,
   "metadata": {},
   "outputs": [
    {
     "data": {
      "application/vnd.plotly.v1+json": {
       "config": {
        "plotlyServerURL": "https://plot.ly"
       },
       "data": [
        {
         "colorscale": [
          [
           0,
           "rgb(254, 252, 205)"
          ],
          [
           0.09090909090909091,
           "rgb(239, 225, 156)"
          ],
          [
           0.18181818181818182,
           "rgb(221, 201, 106)"
          ],
          [
           0.2727272727272727,
           "rgb(194, 182, 59)"
          ],
          [
           0.36363636363636365,
           "rgb(157, 167, 21)"
          ],
          [
           0.45454545454545453,
           "rgb(116, 153, 5)"
          ],
          [
           0.5454545454545454,
           "rgb(75, 138, 20)"
          ],
          [
           0.6363636363636364,
           "rgb(35, 121, 36)"
          ],
          [
           0.7272727272727273,
           "rgb(11, 100, 44)"
          ],
          [
           0.8181818181818182,
           "rgb(18, 78, 43)"
          ],
          [
           0.9090909090909091,
           "rgb(25, 56, 34)"
          ],
          [
           1,
           "rgb(23, 35, 18)"
          ]
         ],
         "connectgaps": true,
         "type": "contour",
         "x": [
          0.6,
          0.9999999999999999,
          1,
          1.4,
          1.4999999999999996,
          1.5499999999999996,
          1.5999999999999996,
          1.5999999999999999,
          1.6499999999999997,
          1.6999999999999997,
          1.7999999999999998,
          1.9,
          1.9999999999999998,
          2.1999999999999997
         ],
         "y": [
          0.19999999999999996,
          0.29999999999999993,
          0.39999999999999997,
          0.4,
          0.45,
          0.5,
          0.55,
          0.6,
          0.8,
          1,
          1.4
         ],
         "z": [
          [
           null,
           null,
           null,
           0.21250000000000013,
           null,
           null,
           null,
           null,
           null,
           null,
           0.052500000000000005,
           null,
           null,
           null
          ],
          [
           null,
           null,
           null,
           null,
           null,
           null,
           null,
           null,
           null,
           0.022500000000000103,
           0.022500000000000048,
           null,
           null,
           null
          ],
          [
           null,
           null,
           null,
           null,
           null,
           null,
           0.012500000000000039,
           0.012500000000000067,
           null,
           0.00250000000000003,
           0.012500000000000025,
           0.042499999999999934,
           0.09249999999999983,
           null
          ],
          [
           null,
           null,
           null,
           null,
           null,
           null,
           0.012500000000000067,
           null,
           null,
           0.0025000000000000577,
           null,
           null,
           null,
           null
          ],
          [
           null,
           null,
           null,
           null,
           null,
           null,
           0.005000000000000032,
           null,
           4.163336342344337e-17,
           null,
           null,
           null,
           null,
           null
          ],
          [
           null,
           null,
           null,
           null,
           0.02250000000000016,
           0.010000000000000092,
           0.002500000000000016,
           null,
           1.3877787807814457e-17,
           0.002500000000000016,
           0.02249999999999997,
           null,
           null,
           null
          ],
          [
           null,
           null,
           null,
           null,
           null,
           null,
           0.0050000000000000044,
           null,
           0.0050000000000000044,
           null,
           null,
           null,
           null,
           null
          ],
          [
           null,
           0.37250000000000005,
           0.37250000000000005,
           0.05250000000000005,
           null,
           null,
           0.012499999999999983,
           0.012500000000000053,
           null,
           0.022499999999999985,
           0.05249999999999995,
           null,
           0.17249999999999982,
           0.37249999999999966
          ],
          [
           null,
           null,
           null,
           null,
           null,
           null,
           null,
           null,
           null,
           null,
           0.17249999999999993,
           null,
           null,
           null
          ],
          [
           0.8524999999999997,
           0.37250000000000005,
           0.37250000000000005,
           0.21249999999999997,
           null,
           null,
           null,
           null,
           null,
           null,
           0.37249999999999983,
           null,
           null,
           null
          ],
          [
           null,
           null,
           0.6924999999999999,
           0.6924999999999998,
           null,
           null,
           null,
           null,
           null,
           null,
           null,
           null,
           null,
           null
          ]
         ]
        },
        {
         "marker": {
          "color": "black",
          "size": 12
         },
         "mode": "markers",
         "showlegend": false,
         "type": "scatter",
         "x": [
          1,
          1.9999999999999998,
          1.5999999999999996,
          2.1999999999999997,
          1.7999999999999998,
          0.9999999999999999,
          1.6999999999999997,
          1.7999999999999998,
          0.9999999999999999,
          1.6499999999999997,
          1.5999999999999996,
          1.4999999999999996,
          1.7999999999999998,
          1.6999999999999997,
          1.5999999999999999,
          1.4,
          1.6499999999999997,
          0.6,
          1.9999999999999998,
          1.5999999999999996,
          1.4,
          1.6999999999999997,
          1.7999999999999998,
          1.5999999999999996,
          1.6999999999999997,
          1.4,
          1.4,
          1.6999999999999997,
          1.9,
          1.7999999999999998,
          1.5999999999999996,
          1.5999999999999999,
          1.5499999999999996,
          1,
          1.6499999999999997,
          1.7999999999999998,
          1.5999999999999996,
          1,
          1.7999999999999998
         ],
         "y": [
          1.4,
          0.6,
          0.6,
          0.6,
          0.19999999999999996,
          1,
          0.6,
          1,
          0.6,
          0.55,
          0.5,
          0.5,
          0.6,
          0.5,
          0.6,
          0.19999999999999996,
          0.45,
          1,
          0.39999999999999997,
          0.39999999999999997,
          1,
          0.39999999999999997,
          0.5,
          0.4,
          0.4,
          0.6,
          1.4,
          0.29999999999999993,
          0.39999999999999997,
          0.39999999999999997,
          0.55,
          0.39999999999999997,
          0.5,
          1,
          0.5,
          0.29999999999999993,
          0.45,
          0.6,
          0.8
         ]
        },
        {
         "marker": {
          "angleref": "previous",
          "color": "red",
          "size": 20,
          "symbol": "arrow-bar-up"
         },
         "showlegend": false,
         "type": "scatter",
         "x": [
          1,
          1.4,
          1.4,
          1.7999999999999998,
          1.7999999999999998,
          1.6999999999999997,
          1.6999999999999997,
          1.5999999999999996,
          1.6499999999999997
         ],
         "y": [
          1,
          1,
          0.6,
          0.6,
          0.39999999999999997,
          0.39999999999999997,
          0.5,
          0.5,
          0.5
         ]
        }
       ],
       "layout": {
        "height": 800,
        "template": {
         "data": {
          "bar": [
           {
            "error_x": {
             "color": "#2a3f5f"
            },
            "error_y": {
             "color": "#2a3f5f"
            },
            "marker": {
             "line": {
              "color": "#E5ECF6",
              "width": 0.5
             },
             "pattern": {
              "fillmode": "overlay",
              "size": 10,
              "solidity": 0.2
             }
            },
            "type": "bar"
           }
          ],
          "barpolar": [
           {
            "marker": {
             "line": {
              "color": "#E5ECF6",
              "width": 0.5
             },
             "pattern": {
              "fillmode": "overlay",
              "size": 10,
              "solidity": 0.2
             }
            },
            "type": "barpolar"
           }
          ],
          "carpet": [
           {
            "aaxis": {
             "endlinecolor": "#2a3f5f",
             "gridcolor": "white",
             "linecolor": "white",
             "minorgridcolor": "white",
             "startlinecolor": "#2a3f5f"
            },
            "baxis": {
             "endlinecolor": "#2a3f5f",
             "gridcolor": "white",
             "linecolor": "white",
             "minorgridcolor": "white",
             "startlinecolor": "#2a3f5f"
            },
            "type": "carpet"
           }
          ],
          "choropleth": [
           {
            "colorbar": {
             "outlinewidth": 0,
             "ticks": ""
            },
            "type": "choropleth"
           }
          ],
          "contour": [
           {
            "colorbar": {
             "outlinewidth": 0,
             "ticks": ""
            },
            "colorscale": [
             [
              0,
              "#0d0887"
             ],
             [
              0.1111111111111111,
              "#46039f"
             ],
             [
              0.2222222222222222,
              "#7201a8"
             ],
             [
              0.3333333333333333,
              "#9c179e"
             ],
             [
              0.4444444444444444,
              "#bd3786"
             ],
             [
              0.5555555555555556,
              "#d8576b"
             ],
             [
              0.6666666666666666,
              "#ed7953"
             ],
             [
              0.7777777777777778,
              "#fb9f3a"
             ],
             [
              0.8888888888888888,
              "#fdca26"
             ],
             [
              1,
              "#f0f921"
             ]
            ],
            "type": "contour"
           }
          ],
          "contourcarpet": [
           {
            "colorbar": {
             "outlinewidth": 0,
             "ticks": ""
            },
            "type": "contourcarpet"
           }
          ],
          "heatmap": [
           {
            "colorbar": {
             "outlinewidth": 0,
             "ticks": ""
            },
            "colorscale": [
             [
              0,
              "#0d0887"
             ],
             [
              0.1111111111111111,
              "#46039f"
             ],
             [
              0.2222222222222222,
              "#7201a8"
             ],
             [
              0.3333333333333333,
              "#9c179e"
             ],
             [
              0.4444444444444444,
              "#bd3786"
             ],
             [
              0.5555555555555556,
              "#d8576b"
             ],
             [
              0.6666666666666666,
              "#ed7953"
             ],
             [
              0.7777777777777778,
              "#fb9f3a"
             ],
             [
              0.8888888888888888,
              "#fdca26"
             ],
             [
              1,
              "#f0f921"
             ]
            ],
            "type": "heatmap"
           }
          ],
          "heatmapgl": [
           {
            "colorbar": {
             "outlinewidth": 0,
             "ticks": ""
            },
            "colorscale": [
             [
              0,
              "#0d0887"
             ],
             [
              0.1111111111111111,
              "#46039f"
             ],
             [
              0.2222222222222222,
              "#7201a8"
             ],
             [
              0.3333333333333333,
              "#9c179e"
             ],
             [
              0.4444444444444444,
              "#bd3786"
             ],
             [
              0.5555555555555556,
              "#d8576b"
             ],
             [
              0.6666666666666666,
              "#ed7953"
             ],
             [
              0.7777777777777778,
              "#fb9f3a"
             ],
             [
              0.8888888888888888,
              "#fdca26"
             ],
             [
              1,
              "#f0f921"
             ]
            ],
            "type": "heatmapgl"
           }
          ],
          "histogram": [
           {
            "marker": {
             "pattern": {
              "fillmode": "overlay",
              "size": 10,
              "solidity": 0.2
             }
            },
            "type": "histogram"
           }
          ],
          "histogram2d": [
           {
            "colorbar": {
             "outlinewidth": 0,
             "ticks": ""
            },
            "colorscale": [
             [
              0,
              "#0d0887"
             ],
             [
              0.1111111111111111,
              "#46039f"
             ],
             [
              0.2222222222222222,
              "#7201a8"
             ],
             [
              0.3333333333333333,
              "#9c179e"
             ],
             [
              0.4444444444444444,
              "#bd3786"
             ],
             [
              0.5555555555555556,
              "#d8576b"
             ],
             [
              0.6666666666666666,
              "#ed7953"
             ],
             [
              0.7777777777777778,
              "#fb9f3a"
             ],
             [
              0.8888888888888888,
              "#fdca26"
             ],
             [
              1,
              "#f0f921"
             ]
            ],
            "type": "histogram2d"
           }
          ],
          "histogram2dcontour": [
           {
            "colorbar": {
             "outlinewidth": 0,
             "ticks": ""
            },
            "colorscale": [
             [
              0,
              "#0d0887"
             ],
             [
              0.1111111111111111,
              "#46039f"
             ],
             [
              0.2222222222222222,
              "#7201a8"
             ],
             [
              0.3333333333333333,
              "#9c179e"
             ],
             [
              0.4444444444444444,
              "#bd3786"
             ],
             [
              0.5555555555555556,
              "#d8576b"
             ],
             [
              0.6666666666666666,
              "#ed7953"
             ],
             [
              0.7777777777777778,
              "#fb9f3a"
             ],
             [
              0.8888888888888888,
              "#fdca26"
             ],
             [
              1,
              "#f0f921"
             ]
            ],
            "type": "histogram2dcontour"
           }
          ],
          "mesh3d": [
           {
            "colorbar": {
             "outlinewidth": 0,
             "ticks": ""
            },
            "type": "mesh3d"
           }
          ],
          "parcoords": [
           {
            "line": {
             "colorbar": {
              "outlinewidth": 0,
              "ticks": ""
             }
            },
            "type": "parcoords"
           }
          ],
          "pie": [
           {
            "automargin": true,
            "type": "pie"
           }
          ],
          "scatter": [
           {
            "fillpattern": {
             "fillmode": "overlay",
             "size": 10,
             "solidity": 0.2
            },
            "type": "scatter"
           }
          ],
          "scatter3d": [
           {
            "line": {
             "colorbar": {
              "outlinewidth": 0,
              "ticks": ""
             }
            },
            "marker": {
             "colorbar": {
              "outlinewidth": 0,
              "ticks": ""
             }
            },
            "type": "scatter3d"
           }
          ],
          "scattercarpet": [
           {
            "marker": {
             "colorbar": {
              "outlinewidth": 0,
              "ticks": ""
             }
            },
            "type": "scattercarpet"
           }
          ],
          "scattergeo": [
           {
            "marker": {
             "colorbar": {
              "outlinewidth": 0,
              "ticks": ""
             }
            },
            "type": "scattergeo"
           }
          ],
          "scattergl": [
           {
            "marker": {
             "colorbar": {
              "outlinewidth": 0,
              "ticks": ""
             }
            },
            "type": "scattergl"
           }
          ],
          "scattermapbox": [
           {
            "marker": {
             "colorbar": {
              "outlinewidth": 0,
              "ticks": ""
             }
            },
            "type": "scattermapbox"
           }
          ],
          "scatterpolar": [
           {
            "marker": {
             "colorbar": {
              "outlinewidth": 0,
              "ticks": ""
             }
            },
            "type": "scatterpolar"
           }
          ],
          "scatterpolargl": [
           {
            "marker": {
             "colorbar": {
              "outlinewidth": 0,
              "ticks": ""
             }
            },
            "type": "scatterpolargl"
           }
          ],
          "scatterternary": [
           {
            "marker": {
             "colorbar": {
              "outlinewidth": 0,
              "ticks": ""
             }
            },
            "type": "scatterternary"
           }
          ],
          "surface": [
           {
            "colorbar": {
             "outlinewidth": 0,
             "ticks": ""
            },
            "colorscale": [
             [
              0,
              "#0d0887"
             ],
             [
              0.1111111111111111,
              "#46039f"
             ],
             [
              0.2222222222222222,
              "#7201a8"
             ],
             [
              0.3333333333333333,
              "#9c179e"
             ],
             [
              0.4444444444444444,
              "#bd3786"
             ],
             [
              0.5555555555555556,
              "#d8576b"
             ],
             [
              0.6666666666666666,
              "#ed7953"
             ],
             [
              0.7777777777777778,
              "#fb9f3a"
             ],
             [
              0.8888888888888888,
              "#fdca26"
             ],
             [
              1,
              "#f0f921"
             ]
            ],
            "type": "surface"
           }
          ],
          "table": [
           {
            "cells": {
             "fill": {
              "color": "#EBF0F8"
             },
             "line": {
              "color": "white"
             }
            },
            "header": {
             "fill": {
              "color": "#C8D4E3"
             },
             "line": {
              "color": "white"
             }
            },
            "type": "table"
           }
          ]
         },
         "layout": {
          "annotationdefaults": {
           "arrowcolor": "#2a3f5f",
           "arrowhead": 0,
           "arrowwidth": 1
          },
          "autotypenumbers": "strict",
          "coloraxis": {
           "colorbar": {
            "outlinewidth": 0,
            "ticks": ""
           }
          },
          "colorscale": {
           "diverging": [
            [
             0,
             "#8e0152"
            ],
            [
             0.1,
             "#c51b7d"
            ],
            [
             0.2,
             "#de77ae"
            ],
            [
             0.3,
             "#f1b6da"
            ],
            [
             0.4,
             "#fde0ef"
            ],
            [
             0.5,
             "#f7f7f7"
            ],
            [
             0.6,
             "#e6f5d0"
            ],
            [
             0.7,
             "#b8e186"
            ],
            [
             0.8,
             "#7fbc41"
            ],
            [
             0.9,
             "#4d9221"
            ],
            [
             1,
             "#276419"
            ]
           ],
           "sequential": [
            [
             0,
             "#0d0887"
            ],
            [
             0.1111111111111111,
             "#46039f"
            ],
            [
             0.2222222222222222,
             "#7201a8"
            ],
            [
             0.3333333333333333,
             "#9c179e"
            ],
            [
             0.4444444444444444,
             "#bd3786"
            ],
            [
             0.5555555555555556,
             "#d8576b"
            ],
            [
             0.6666666666666666,
             "#ed7953"
            ],
            [
             0.7777777777777778,
             "#fb9f3a"
            ],
            [
             0.8888888888888888,
             "#fdca26"
            ],
            [
             1,
             "#f0f921"
            ]
           ],
           "sequentialminus": [
            [
             0,
             "#0d0887"
            ],
            [
             0.1111111111111111,
             "#46039f"
            ],
            [
             0.2222222222222222,
             "#7201a8"
            ],
            [
             0.3333333333333333,
             "#9c179e"
            ],
            [
             0.4444444444444444,
             "#bd3786"
            ],
            [
             0.5555555555555556,
             "#d8576b"
            ],
            [
             0.6666666666666666,
             "#ed7953"
            ],
            [
             0.7777777777777778,
             "#fb9f3a"
            ],
            [
             0.8888888888888888,
             "#fdca26"
            ],
            [
             1,
             "#f0f921"
            ]
           ]
          },
          "colorway": [
           "#636efa",
           "#EF553B",
           "#00cc96",
           "#ab63fa",
           "#FFA15A",
           "#19d3f3",
           "#FF6692",
           "#B6E880",
           "#FF97FF",
           "#FECB52"
          ],
          "font": {
           "color": "#2a3f5f"
          },
          "geo": {
           "bgcolor": "white",
           "lakecolor": "white",
           "landcolor": "#E5ECF6",
           "showlakes": true,
           "showland": true,
           "subunitcolor": "white"
          },
          "hoverlabel": {
           "align": "left"
          },
          "hovermode": "closest",
          "mapbox": {
           "style": "light"
          },
          "paper_bgcolor": "white",
          "plot_bgcolor": "#E5ECF6",
          "polar": {
           "angularaxis": {
            "gridcolor": "white",
            "linecolor": "white",
            "ticks": ""
           },
           "bgcolor": "#E5ECF6",
           "radialaxis": {
            "gridcolor": "white",
            "linecolor": "white",
            "ticks": ""
           }
          },
          "scene": {
           "xaxis": {
            "backgroundcolor": "#E5ECF6",
            "gridcolor": "white",
            "gridwidth": 2,
            "linecolor": "white",
            "showbackground": true,
            "ticks": "",
            "zerolinecolor": "white"
           },
           "yaxis": {
            "backgroundcolor": "#E5ECF6",
            "gridcolor": "white",
            "gridwidth": 2,
            "linecolor": "white",
            "showbackground": true,
            "ticks": "",
            "zerolinecolor": "white"
           },
           "zaxis": {
            "backgroundcolor": "#E5ECF6",
            "gridcolor": "white",
            "gridwidth": 2,
            "linecolor": "white",
            "showbackground": true,
            "ticks": "",
            "zerolinecolor": "white"
           }
          },
          "shapedefaults": {
           "line": {
            "color": "#2a3f5f"
           }
          },
          "ternary": {
           "aaxis": {
            "gridcolor": "white",
            "linecolor": "white",
            "ticks": ""
           },
           "baxis": {
            "gridcolor": "white",
            "linecolor": "white",
            "ticks": ""
           },
           "bgcolor": "#E5ECF6",
           "caxis": {
            "gridcolor": "white",
            "linecolor": "white",
            "ticks": ""
           }
          },
          "title": {
           "x": 0.05
          },
          "xaxis": {
           "automargin": true,
           "gridcolor": "white",
           "linecolor": "white",
           "ticks": "",
           "title": {
            "standoff": 15
           },
           "zerolinecolor": "white",
           "zerolinewidth": 2
          },
          "yaxis": {
           "automargin": true,
           "gridcolor": "white",
           "linecolor": "white",
           "ticks": "",
           "title": {
            "standoff": 15
           },
           "zerolinecolor": "white",
           "zerolinewidth": 2
          }
         }
        },
        "width": 800
       }
      }
     },
     "metadata": {},
     "output_type": "display_data"
    }
   ],
   "source": [
    "# lrs = [0.005]\n",
    "ps = [(1, 1)]\n",
    "cs, fs = [ps[0]], [f(ps[0])]\n",
    "for lr in lrs:\n",
    "    restart = True\n",
    "    while restart or get_min_error(ps, fs) != cs[-1]:\n",
    "        restart = False\n",
    "        if get_min_error(ps, fs) != cs[-1]:\n",
    "            cs = bak.lists.unpack_nested_lists(\n",
    "                    [cs, get_min_error(ps, fs)]\n",
    "                )\n",
    "        ps = list(set(bak.lists.unpack_nested_lists(\n",
    "            [ps, get_neighbours(get_min_error(ps, fs), lr)]\n",
    "        )))\n",
    "        fs = [f(p) for p in ps]\n",
    "        # print(ps, fs)\n",
    "\n",
    "plot_contour(ps, cs, fs)"
   ]
  },
  {
   "cell_type": "code",
   "execution_count": null,
   "metadata": {},
   "outputs": [],
   "source": [
    "plot_contour(ps, cs, fs)"
   ]
  },
  {
   "cell_type": "code",
   "execution_count": null,
   "metadata": {},
   "outputs": [],
   "source": [
    "ps = bak.lists.unpack_nested_lists(\n",
    "    [ps, [get_neighbours(p, lr) for p in ps]]\n",
    ")\n",
    "fs = [f(p) for p in ps]\n",
    "print(ps, fs)\n"
   ]
  },
  {
   "cell_type": "code",
   "execution_count": null,
   "metadata": {},
   "outputs": [],
   "source": []
  },
  {
   "cell_type": "code",
   "execution_count": null,
   "metadata": {},
   "outputs": [],
   "source": [
    "import plotly.graph_objects as go\n",
    "\n",
    "x, y, z = create_mesh(ps, fs)\n",
    "\n",
    "fig = go.Figure(\n",
    "    data=go.Contour(x=x, y=y, z=z)\n",
    "    \n",
    ") #connectgaps=True\n",
    "fig.show()"
   ]
  },
  {
   "cell_type": "code",
   "execution_count": null,
   "metadata": {},
   "outputs": [],
   "source": [
    "import itertools"
   ]
  },
  {
   "cell_type": "code",
   "execution_count": null,
   "metadata": {},
   "outputs": [],
   "source": [
    "def find_S_M(M, k=(-1, 0, 1)):\n",
    "    return [i for i in itertools.product(*[k for _ in range(M)])]\n"
   ]
  },
  {
   "cell_type": "code",
   "execution_count": null,
   "metadata": {},
   "outputs": [],
   "source": [
    "M = [i for i in range(1, 11)]\n",
    "\n",
    "theta_min = [2*m for m in M]\n",
    "theta_max = [len(find_S_M(m)) for m in M]"
   ]
  },
  {
   "cell_type": "code",
   "execution_count": null,
   "metadata": {},
   "outputs": [],
   "source": [
    "plt.style.use(\"default\")\n",
    "plt.rcParams['axes.grid'] = True\n",
    "fig = plt.figure(dpi=500, figsize=(6, 3))\n",
    "plt.scatter(M, theta_min, marker=\"X\")\n",
    "plt.scatter(M, theta_max)\n",
    "plt.legend([\n",
    "    \"$\\\\theta = 0: {|\\\\phi|}_{min}$\",\n",
    "    \"$\\\\theta = 1: {|\\\\phi|}_{max}$\"\n",
    "])\n",
    "# for f, i in enumerate(M):\n",
    "#     plt.annotate(f'{theta_min[f]}', xy=(i,theta_min[f]))\n",
    "#     plt.annotate(f'{theta_max[f]}', xy=(i,theta_max[f]))\n",
    "plt.yscale(\"log\")\n",
    "plt.xlabel(\"$M$\")\n",
    "plt.ylabel(\"$|\\\\phi|$\")"
   ]
  },
  {
   "cell_type": "code",
   "execution_count": null,
   "metadata": {},
   "outputs": [],
   "source": []
  }
 ],
 "metadata": {
  "kernelspec": {
   "display_name": "Python 3",
   "language": "python",
   "name": "python3"
  },
  "language_info": {
   "codemirror_mode": {
    "name": "ipython",
    "version": 3
   },
   "file_extension": ".py",
   "mimetype": "text/x-python",
   "name": "python",
   "nbconvert_exporter": "python",
   "pygments_lexer": "ipython3",
   "version": "3.12.3"
  }
 },
 "nbformat": 4,
 "nbformat_minor": 2
}
