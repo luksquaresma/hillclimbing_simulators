{
 "cells": [
  {
   "cell_type": "code",
   "execution_count": null,
   "metadata": {},
   "outputs": [],
   "source": [
    "import br_army_knife as bak\n",
    "import matplotlib.pyplot as plt\n",
    "import plotly.graph_objects as go"
   ]
  },
  {
   "cell_type": "code",
   "execution_count": null,
   "metadata": {},
   "outputs": [],
   "source": [
    "def f(p):\n",
    "    x, y = p\n",
    "    x0, y0 = 2, 0.8\n",
    "    return (\n",
    "        (x-x0)**2 + (x-x0) +\n",
    "        (y-y0)**2 + (y-y0) +\n",
    "        ((x-x0)*(y-y0))\n",
    "    )\n",
    "\n",
    "def get_neighbours(p, lr):\n",
    "    (x, y) = p\n",
    "    return [\n",
    "        (x + s*a*lr, y + s*b*lr)\n",
    "        for s in [-1, 1]\n",
    "        for a, b in zip(\n",
    "            [1, 0], [0, 1]\n",
    "        )\n",
    "    ]\n",
    "\n",
    "def create_mesh(ps, fs):\n",
    "    j = sorted(list(set([p[0] for p in ps])))\n",
    "    k = sorted(list(set([p[1] for p in ps])))\n",
    "    mesh = [\n",
    "            [\n",
    "                fs[ps.index((x, y))] if (x, y) in ps else None\n",
    "        for x in j]\n",
    "    for y in k]\n",
    "\n",
    "    return j, k, mesh\n",
    "\n",
    "def get_min_error(ps, fs):\n",
    "    return ps[fs.index(min(fs))]\n",
    "\n",
    "def plot_contour(ps, cs, fs):\n",
    "    x, y, z = create_mesh(ps, fs)\n",
    "    fig = go.Figure()\n",
    "    fig.add_trace(go.Contour(x=x, y=y, z=z, colorscale=\"Speed\")) #connectgaps=True\n",
    "    fig.add_trace(go.Scatter(\n",
    "        x=[p[0] for p in ps],\n",
    "        y=[p[1] for p in ps],\n",
    "        mode=\"markers\",\n",
    "        marker=dict(color='black', size=12),\n",
    "        showlegend=False\n",
    "    ))\n",
    "    if len(cs) > 1:  \n",
    "        cs = cs[1:-1] if cs[-1] == cs[-2] else cs[1:]\n",
    "        fig.add_trace(go.Scatter(\n",
    "            x=[p[0] for p in cs],\n",
    "            y=[p[1] for p in cs],\n",
    "            marker=dict(color='red', size=20, symbol= \"arrow-bar-up\", angleref=\"previous\"),\n",
    "            showlegend=False\n",
    "        ))\n",
    "    fig.update_layout(autosize=False, width=800, height=800)\n",
    "    fig.show()\n",
    "\n",
    "\n",
    "\n",
    "lr = 0.1"
   ]
  },
  {
   "cell_type": "code",
   "execution_count": null,
   "metadata": {},
   "outputs": [],
   "source": [
    "ps = [(1, 1)]\n",
    "cs = [ps[0]]\n",
    "fs = [f(ps[0])]\n",
    "print(ps, cs, fs)"
   ]
  },
  {
   "cell_type": "code",
   "execution_count": null,
   "metadata": {},
   "outputs": [],
   "source": [
    "cs"
   ]
  },
  {
   "cell_type": "code",
   "execution_count": null,
   "metadata": {},
   "outputs": [],
   "source": [
    "cs = bak.lists.unpack_nested_lists(\n",
    "    [cs, get_min_error(ps, fs)]\n",
    ")\n",
    "ps = list(set(bak.lists.unpack_nested_lists(\n",
    "    [ps, get_neighbours(get_min_error(ps, fs), lr)]\n",
    ")))\n",
    "fs = [f(p) for p in ps]\n",
    "# print(ps, fs)\n",
    "plot_contour(ps, cs, fs)\n"
   ]
  },
  {
   "cell_type": "code",
   "execution_count": null,
   "metadata": {},
   "outputs": [],
   "source": [
    "ps = bak.lists.unpack_nested_lists(\n",
    "    [ps, [get_neighbours(p, lr) for p in ps]]\n",
    ")\n",
    "fs = [f(p) for p in ps]\n",
    "print(ps, fs)\n"
   ]
  },
  {
   "cell_type": "code",
   "execution_count": null,
   "metadata": {},
   "outputs": [],
   "source": []
  },
  {
   "cell_type": "code",
   "execution_count": null,
   "metadata": {},
   "outputs": [],
   "source": []
  },
  {
   "cell_type": "code",
   "execution_count": null,
   "metadata": {},
   "outputs": [],
   "source": [
    "import plotly.graph_objects as go\n",
    "\n",
    "x, y, z = create_mesh(ps, fs)\n",
    "\n",
    "fig = go.Figure(\n",
    "    data=go.Contour(x=x, y=y, z=z)\n",
    "    \n",
    ") #connectgaps=True\n",
    "fig.show()"
   ]
  },
  {
   "cell_type": "code",
   "execution_count": null,
   "metadata": {},
   "outputs": [],
   "source": []
  }
 ],
 "metadata": {
  "kernelspec": {
   "display_name": "Python 3",
   "language": "python",
   "name": "python3"
  },
  "language_info": {
   "codemirror_mode": {
    "name": "ipython",
    "version": 3
   },
   "file_extension": ".py",
   "mimetype": "text/x-python",
   "name": "python",
   "nbconvert_exporter": "python",
   "pygments_lexer": "ipython3",
   "version": "3.10.12"
  }
 },
 "nbformat": 4,
 "nbformat_minor": 2
}
